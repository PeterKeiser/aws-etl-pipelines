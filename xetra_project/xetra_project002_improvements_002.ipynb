{
 "cells": [
  {
   "cell_type": "markdown",
   "id": "428e94b5",
   "metadata": {},
   "source": [
    "# Date as an input Argument"
   ]
  },
  {
   "cell_type": "code",
   "execution_count": 36,
   "id": "de19b51d",
   "metadata": {},
   "outputs": [],
   "source": [
    "import boto3\n",
    "import pandas as pd\n",
    "from io import StringIO, BytesIO\n",
    "from datetime import datetime, timedelta"
   ]
  },
  {
   "cell_type": "code",
   "execution_count": 37,
   "id": "c999424e",
   "metadata": {},
   "outputs": [],
   "source": [
    "# Addapter Layer\n",
    "\n",
    "def read_csv_to_df(bucket, key, decoding = \"utf-8\", sep = \",\"):\n",
    "    csv_obj = bucket.Object(key = key).get().get(\"Body\").read().decode(decoding)\n",
    "    data = StringIO(csv_obj)\n",
    "    df = pd.read_csv(data, delimiter = sep)\n",
    "    return df\n",
    "\n",
    "def write_df_to_s3(bucket, df, key):\n",
    "    out_buffer = BytesIO()\n",
    "    df.to_parquet(out_buffer, index = False)\n",
    "    bucket.put_object(Body = out_buffer.getvalue(), Key = key)\n",
    "    return True\n",
    "\n",
    "def return_objects(bucket, arg_date, src_format):\n",
    "    min_date = datetime.strptime(arg_date, src_format).date() - timedelta(days = 1)\n",
    "    max_date = datetime.strptime(arg_date, src_format).date() + timedelta(days = 2)\n",
    "    objects = [obj.key for obj in bucket.objects.all() if datetime.strptime(obj.key.split(\"/\")[0], src_format).date() >= min_date \n",
    "               if datetime.strptime(obj.key.split(\"/\")[0], src_format).date() <= max_date]\n",
    "    return objects"
   ]
  },
  {
   "cell_type": "code",
   "execution_count": 38,
   "id": "8e82039f",
   "metadata": {},
   "outputs": [],
   "source": [
    "# Application Layer\n",
    "\n",
    "def extract(bucket, objects):\n",
    "    df = pd.concat([read_csv_to_df(bucket, obj) for obj in objects], ignore_index = True)\n",
    "    return df\n",
    "    \n",
    "def transform_report1(df, columns, arg_date):\n",
    "    df = df.loc[:, columns]\n",
    "    df.dropna(inplace = True)\n",
    "    df[\"opening_price\"] = df.sort_values(by=[\"Time\"]).groupby([\"ISIN\", \"Date\"])[\"StartPrice\"].transform(\"first\")\n",
    "    df[\"closing_price\"] = df.sort_values(by=[\"Time\"]).groupby([\"ISIN\", \"Date\"])[\"StartPrice\"].transform(\"last\")\n",
    "    df = df.groupby([\"ISIN\", \"Date\"], as_index = False).agg(opening_price_eur = (\"opening_price\", \"min\"),\n",
    "                                                                closing_price_eur = (\"closing_price\", \"min\"), \n",
    "                                                                minimum_price_eur = (\"MinPrice\", \"min\"),\n",
    "                                                                maximum_price_eur = (\"MaxPrice\", \"max\"),\n",
    "                                                                daily_traded_volume = (\"TradedVolume\", \"sum\"))\n",
    "    df[\"prev_closing_price\"] = df.sort_values(by = [\"Date\"]).groupby([\"ISIN\"])[\"closing_price_eur\"].shift(1)\n",
    "    df[\"change_prev_closing_%\"] = (df[\"closing_price_eur\"] - df[\"prev_closing_price\"]) / df[\"prev_closing_price\"] * 100\n",
    "    df.drop(columns = [\"prev_closing_price\"], inplace = True)\n",
    "    df = df.round(2)\n",
    "    df = df[df.Date >= arg_date]\n",
    "    return df\n",
    "\n",
    "def load(bucket, df, trg_key, trg_format):\n",
    "    key = trg_key + datetime.today().strftime(\"%Y%m%d_%H%M%S\") + trg_format\n",
    "    write_df_to_s3(bucket, df, key)\n",
    "    return True\n",
    "    \n",
    "def etl_report1(src_bucket, trg_bucket, objects, columns, arg_date, trg_key, trg_format):\n",
    "    df =  extract(src_bucket, objects)\n",
    "    df = transform_report1(df, columns, arg_date)\n",
    "    load(trg_bucket, df, trg_key, trg_format)\n",
    "    return True"
   ]
  },
  {
   "cell_type": "code",
   "execution_count": 39,
   "id": "359dc0f4",
   "metadata": {},
   "outputs": [],
   "source": [
    "# main function entry point\n",
    "\n",
    "def main():\n",
    "    # Parameters/ Configurations\n",
    "    # Later read as config\n",
    "    arg_date = \"2021-05-09\"\n",
    "    src_format = \"%Y-%m-%d\"\n",
    "    src_bucket = \"deutsche-boerse-xetra-pds\"\n",
    "    trg_bucket = \"xetra--1234\"\n",
    "    columns = ['ISIN', 'Date', 'Time', 'StartPrice', 'MaxPrice', 'MinPrice', 'EndPrice', 'TradedVolume']\n",
    "    trg_key = \"xetra_daily_report_\"\n",
    "    trg_format = \".parquet\"\n",
    "    \n",
    "    # Init\n",
    "    s3 = boto3.resource(\"s3\")\n",
    "    bucket_src = s3.Bucket(src_bucket)\n",
    "    bucket_trg = s3.Bucket(trg_bucket)\n",
    "    \n",
    "    # run application \n",
    "    \n",
    "    objects = return_objects(bucket_src, arg_date, src_format)\n",
    "    etl_report1(bucket_src, bucket_trg, objects, columns, arg_date, trg_key, trg_format)\n",
    "    "
   ]
  },
  {
   "cell_type": "code",
   "execution_count": 40,
   "id": "67aaec15",
   "metadata": {},
   "outputs": [],
   "source": [
    "# run \n",
    "main()"
   ]
  },
  {
   "cell_type": "code",
   "execution_count": 41,
   "id": "9edebbca",
   "metadata": {},
   "outputs": [],
   "source": [
    "# target_key = \"xetra_daily_report\"\n",
    "# trg_format = \".parquet\""
   ]
  },
  {
   "cell_type": "code",
   "execution_count": 42,
   "id": "186dced0",
   "metadata": {},
   "outputs": [],
   "source": [
    "# arg_date = \"2021-05-09\"\n",
    "# src_format = \"%Y-%m-%d\"\n",
    "# src_bucket = \"deutsche-boerse-xetra-pds\"\n",
    "# trg_bucket = \"xetra--1234\"\n",
    "# columns = ['ISIN', 'Date', 'Time', 'StartPrice', 'MaxPrice', 'MinPrice', 'EndPrice', 'TradedVolume']\n",
    "# key = \"xetra_daily_report\" + datetime.today().strftime(\"%Y%m%d_%H%M%S\") + \".parquet\""
   ]
  },
  {
   "cell_type": "code",
   "execution_count": 43,
   "id": "3570af5e",
   "metadata": {},
   "outputs": [],
   "source": [
    "# arg_date_dt = datetime.strptime(arg_date, src_format).date() - timedelta(days = 1)"
   ]
  },
  {
   "cell_type": "code",
   "execution_count": 44,
   "id": "c6e2a185",
   "metadata": {},
   "outputs": [],
   "source": [
    "# arg_date_dt"
   ]
  },
  {
   "cell_type": "code",
   "execution_count": 45,
   "id": "671c15f2",
   "metadata": {},
   "outputs": [],
   "source": [
    "# arg_date_end = datetime.strptime(arg_date, src_format).date() + timedelta(days = 2)"
   ]
  },
  {
   "cell_type": "code",
   "execution_count": 46,
   "id": "18a45101",
   "metadata": {},
   "outputs": [],
   "source": [
    "# arg_date_end"
   ]
  },
  {
   "cell_type": "code",
   "execution_count": 47,
   "id": "86a65ae5",
   "metadata": {},
   "outputs": [],
   "source": [
    "# s3 = boto3.resource(\"s3\")\n",
    "# bucket = s3.Bucket(src_bucket)\n",
    "# objects = [obj for obj in bucket.objects.all() if datetime.strptime(obj.key.split(\"/\")[0], '%Y-%m-%d').date() >= arg_date_dt]\n",
    "# objects = [obj for obj in bucket.objects.all() if datetime.strptime(obj.key.split(\"/\")[0], src_format).date() >= arg_date_dt \n",
    "#            if datetime.strptime(obj.key.split(\"/\")[0], src_format).date() <= arg_date_end]"
   ]
  },
  {
   "cell_type": "code",
   "execution_count": 48,
   "id": "d695d323",
   "metadata": {},
   "outputs": [],
   "source": [
    "#objects = []\n",
    "#for obj in bucket.objects.all():\n",
    "   # d = datetime.strptime(obj.key.split(\"/\")[0], '%Y-%m-%d').date()\n",
    "   # if d >= arg_date_dt and d <= arg_date_end:\n",
    "     #   objects.append(obj)"
   ]
  },
  {
   "cell_type": "code",
   "execution_count": 49,
   "id": "5f2c7379",
   "metadata": {},
   "outputs": [],
   "source": [
    "# objects"
   ]
  },
  {
   "cell_type": "code",
   "execution_count": 50,
   "id": "cdd223e5",
   "metadata": {},
   "outputs": [],
   "source": [
    "# df_init.columns"
   ]
  },
  {
   "cell_type": "code",
   "execution_count": 51,
   "id": "9c45fd1b",
   "metadata": {},
   "outputs": [],
   "source": [
    "#def csv_to_df(filename):\n",
    "#    csv_obj = bucket.Object(key = filename).get().get(\"Body\").read().decode(\"utf-8\")\n",
    "#    data = StringIO(csv_obj)\n",
    "#    df = pd.read_csv(data, delimiter = \",\")\n",
    "#    return df\n",
    "# df_all = pd.concat([csv_to_df(obj) for obj in objects], ignore_index = True)"
   ]
  },
  {
   "cell_type": "code",
   "execution_count": 52,
   "id": "0e2f825b",
   "metadata": {},
   "outputs": [],
   "source": [
    "# columns = ['ISIN', 'Date', 'Time', 'StartPrice', 'MaxPrice', 'MinPrice', 'EndPrice', 'TradedVolume']\n",
    "# df_all = df_all.loc[:, columns]"
   ]
  },
  {
   "cell_type": "code",
   "execution_count": 53,
   "id": "c4222291",
   "metadata": {},
   "outputs": [],
   "source": [
    "# df_all.dropna(inplace = True)"
   ]
  },
  {
   "cell_type": "markdown",
   "id": "3a5dc1dd",
   "metadata": {},
   "source": [
    "## Get opening price per ISIN and Day"
   ]
  },
  {
   "cell_type": "code",
   "execution_count": 54,
   "id": "ba87d0be",
   "metadata": {},
   "outputs": [],
   "source": [
    "# df_all[\"opening_price\"] = df_all.sort_values(by=[\"Time\"]).groupby([\"ISIN\", \"Date\"])[\"StartPrice\"].transform(\"first\")"
   ]
  },
  {
   "cell_type": "markdown",
   "id": "e4ca83d1",
   "metadata": {},
   "source": [
    "## Get closing price per ISIN and Day"
   ]
  },
  {
   "cell_type": "code",
   "execution_count": 55,
   "id": "946e5c1d",
   "metadata": {},
   "outputs": [],
   "source": [
    "# df_all[\"closing_price\"] = df_all.sort_values(by=[\"Time\"]).groupby([\"ISIN\", \"Date\"])[\"StartPrice\"].transform(\"last\")"
   ]
  },
  {
   "cell_type": "markdown",
   "id": "b2f80fdc",
   "metadata": {},
   "source": [
    "## Aggregation"
   ]
  },
  {
   "cell_type": "code",
   "execution_count": 56,
   "id": "647903ad",
   "metadata": {},
   "outputs": [],
   "source": [
    "# df_all = df_all.groupby([\"ISIN\", \"Date\"], as_index = False).agg(opening_price_eur = (\"opening_price\", \"min\"),\n",
    "#                                                                closing_price_eur = (\"closing_price\", \"min\"), \n",
    "#                                                                minimum_price_eur = (\"MinPrice\", \"min\"),\n",
    "#                                                                maximum_price_eur = (\"MaxPrice\", \"max\"),\n",
    "#                                                                daily_traded_volume = (\"TradedVolume\", \"sum\"))"
   ]
  },
  {
   "cell_type": "markdown",
   "id": "9739a911",
   "metadata": {},
   "source": [
    "## Percent Change Prev Closing"
   ]
  },
  {
   "cell_type": "code",
   "execution_count": 57,
   "id": "38cbf848",
   "metadata": {},
   "outputs": [],
   "source": [
    "# df_all[\"prev_closing_price\"] = df_all.sort_values(by = [\"Date\"]).groupby([\"ISIN\"])[\"closing_price_eur\"].shift(1)"
   ]
  },
  {
   "cell_type": "code",
   "execution_count": 58,
   "id": "bda19e58",
   "metadata": {},
   "outputs": [],
   "source": [
    "# df_all[\"change_prev_closing_%\"] = (df_all[\"closing_price_eur\"] - df_all[\"prev_closing_price\"]) / df_all[\"prev_closing_price\"] * 100"
   ]
  },
  {
   "cell_type": "code",
   "execution_count": 59,
   "id": "fb909378",
   "metadata": {},
   "outputs": [],
   "source": [
    "# df_all.drop(columns = [\"prev_closing_price\"], inplace = True)"
   ]
  },
  {
   "cell_type": "code",
   "execution_count": 60,
   "id": "c45a2352",
   "metadata": {},
   "outputs": [],
   "source": [
    "# df_all = df_all.round(2)"
   ]
  },
  {
   "cell_type": "code",
   "execution_count": 61,
   "id": "46688f72",
   "metadata": {},
   "outputs": [],
   "source": [
    "# df_all = df_all[df_all.Date >= arg_date]"
   ]
  },
  {
   "cell_type": "markdown",
   "id": "7365993c",
   "metadata": {},
   "source": [
    "## Write to S3"
   ]
  },
  {
   "cell_type": "code",
   "execution_count": 62,
   "id": "657c56c1",
   "metadata": {},
   "outputs": [],
   "source": [
    "# out_buffer = BytesIO()\n",
    "# df_all.to_parquet(out_buffer, index = False)\n",
    "# bucket_target = s3.Bucket(trg_bucket)\n",
    "# bucket_target.put_object(Body = out_buffer.getvalue(), Key = key)"
   ]
  },
  {
   "cell_type": "markdown",
   "id": "5010e69e",
   "metadata": {},
   "source": [
    "## Read the uploaded file"
   ]
  },
  {
   "cell_type": "code",
   "execution_count": 65,
   "id": "06802f82",
   "metadata": {},
   "outputs": [
    {
     "name": "stdout",
     "output_type": "stream",
     "text": [
      "xetra_daily_report20220209_205648.parquet\n",
      "xetra_daily_report20220209_222954.parquet\n",
      "xetra_daily_report_20220210_143238.parquet\n"
     ]
    }
   ],
   "source": [
    "trg_bucket = \"xetra--1234\"\n",
    "s3 = boto3.resource(\"s3\")\n",
    "bucket_trg = s3.Bucket(trg_bucket)\n",
    "\n",
    "for obj in bucket_trg.objects.all():\n",
    "    print(obj.key)"
   ]
  },
  {
   "cell_type": "code",
   "execution_count": 67,
   "id": "c3b874de",
   "metadata": {},
   "outputs": [],
   "source": [
    "prq_obj = bucket_trg.Object(key = \"xetra_daily_report_20220210_143238.parquet\").get().get(\"Body\").read()\n",
    "data = BytesIO(prq_obj)\n",
    "df_report = pd.read_parquet(data)"
   ]
  },
  {
   "cell_type": "code",
   "execution_count": 68,
   "id": "8c2e43bc",
   "metadata": {},
   "outputs": [
    {
     "data": {
      "text/html": [
       "<div>\n",
       "<style scoped>\n",
       "    .dataframe tbody tr th:only-of-type {\n",
       "        vertical-align: middle;\n",
       "    }\n",
       "\n",
       "    .dataframe tbody tr th {\n",
       "        vertical-align: top;\n",
       "    }\n",
       "\n",
       "    .dataframe thead th {\n",
       "        text-align: right;\n",
       "    }\n",
       "</style>\n",
       "<table border=\"1\" class=\"dataframe\">\n",
       "  <thead>\n",
       "    <tr style=\"text-align: right;\">\n",
       "      <th></th>\n",
       "      <th>ISIN</th>\n",
       "      <th>Date</th>\n",
       "      <th>opening_price_eur</th>\n",
       "      <th>closing_price_eur</th>\n",
       "      <th>minimum_price_eur</th>\n",
       "      <th>maximum_price_eur</th>\n",
       "      <th>daily_traded_volume</th>\n",
       "      <th>change_prev_closing_%</th>\n",
       "    </tr>\n",
       "  </thead>\n",
       "  <tbody>\n",
       "    <tr>\n",
       "      <th>0</th>\n",
       "      <td>AT00000FACC2</td>\n",
       "      <td>2021-05-10</td>\n",
       "      <td>9.10</td>\n",
       "      <td>9.02</td>\n",
       "      <td>8.94</td>\n",
       "      <td>9.10</td>\n",
       "      <td>145</td>\n",
       "      <td>NaN</td>\n",
       "    </tr>\n",
       "    <tr>\n",
       "      <th>1</th>\n",
       "      <td>AT00000FACC2</td>\n",
       "      <td>2021-05-11</td>\n",
       "      <td>8.85</td>\n",
       "      <td>8.82</td>\n",
       "      <td>8.82</td>\n",
       "      <td>8.85</td>\n",
       "      <td>304</td>\n",
       "      <td>-2.22</td>\n",
       "    </tr>\n",
       "    <tr>\n",
       "      <th>2</th>\n",
       "      <td>AT0000606306</td>\n",
       "      <td>2021-05-10</td>\n",
       "      <td>18.75</td>\n",
       "      <td>19.27</td>\n",
       "      <td>18.68</td>\n",
       "      <td>19.30</td>\n",
       "      <td>3077</td>\n",
       "      <td>NaN</td>\n",
       "    </tr>\n",
       "    <tr>\n",
       "      <th>3</th>\n",
       "      <td>AT0000606306</td>\n",
       "      <td>2021-05-11</td>\n",
       "      <td>19.11</td>\n",
       "      <td>19.12</td>\n",
       "      <td>19.01</td>\n",
       "      <td>19.16</td>\n",
       "      <td>3447</td>\n",
       "      <td>-0.78</td>\n",
       "    </tr>\n",
       "    <tr>\n",
       "      <th>4</th>\n",
       "      <td>AT0000609607</td>\n",
       "      <td>2021-05-10</td>\n",
       "      <td>16.48</td>\n",
       "      <td>17.46</td>\n",
       "      <td>16.48</td>\n",
       "      <td>17.46</td>\n",
       "      <td>331</td>\n",
       "      <td>NaN</td>\n",
       "    </tr>\n",
       "    <tr>\n",
       "      <th>...</th>\n",
       "      <td>...</td>\n",
       "      <td>...</td>\n",
       "      <td>...</td>\n",
       "      <td>...</td>\n",
       "      <td>...</td>\n",
       "      <td>...</td>\n",
       "      <td>...</td>\n",
       "      <td>...</td>\n",
       "    </tr>\n",
       "    <tr>\n",
       "      <th>5911</th>\n",
       "      <td>XS2265369731</td>\n",
       "      <td>2021-05-11</td>\n",
       "      <td>10.28</td>\n",
       "      <td>10.16</td>\n",
       "      <td>10.16</td>\n",
       "      <td>10.30</td>\n",
       "      <td>0</td>\n",
       "      <td>-2.73</td>\n",
       "    </tr>\n",
       "    <tr>\n",
       "      <th>5912</th>\n",
       "      <td>XS2265370234</td>\n",
       "      <td>2021-05-10</td>\n",
       "      <td>24.23</td>\n",
       "      <td>24.59</td>\n",
       "      <td>24.23</td>\n",
       "      <td>24.59</td>\n",
       "      <td>300</td>\n",
       "      <td>NaN</td>\n",
       "    </tr>\n",
       "    <tr>\n",
       "      <th>5913</th>\n",
       "      <td>XS2265370234</td>\n",
       "      <td>2021-05-11</td>\n",
       "      <td>24.42</td>\n",
       "      <td>24.09</td>\n",
       "      <td>24.07</td>\n",
       "      <td>24.49</td>\n",
       "      <td>600</td>\n",
       "      <td>-2.03</td>\n",
       "    </tr>\n",
       "    <tr>\n",
       "      <th>5914</th>\n",
       "      <td>XS2284324667</td>\n",
       "      <td>2021-05-10</td>\n",
       "      <td>26.87</td>\n",
       "      <td>26.63</td>\n",
       "      <td>26.57</td>\n",
       "      <td>26.90</td>\n",
       "      <td>8302</td>\n",
       "      <td>NaN</td>\n",
       "    </tr>\n",
       "    <tr>\n",
       "      <th>5915</th>\n",
       "      <td>XS2284324667</td>\n",
       "      <td>2021-05-11</td>\n",
       "      <td>26.58</td>\n",
       "      <td>26.80</td>\n",
       "      <td>26.47</td>\n",
       "      <td>26.80</td>\n",
       "      <td>2633</td>\n",
       "      <td>0.65</td>\n",
       "    </tr>\n",
       "  </tbody>\n",
       "</table>\n",
       "<p>5916 rows × 8 columns</p>\n",
       "</div>"
      ],
      "text/plain": [
       "              ISIN        Date  opening_price_eur  closing_price_eur  \\\n",
       "0     AT00000FACC2  2021-05-10               9.10               9.02   \n",
       "1     AT00000FACC2  2021-05-11               8.85               8.82   \n",
       "2     AT0000606306  2021-05-10              18.75              19.27   \n",
       "3     AT0000606306  2021-05-11              19.11              19.12   \n",
       "4     AT0000609607  2021-05-10              16.48              17.46   \n",
       "...            ...         ...                ...                ...   \n",
       "5911  XS2265369731  2021-05-11              10.28              10.16   \n",
       "5912  XS2265370234  2021-05-10              24.23              24.59   \n",
       "5913  XS2265370234  2021-05-11              24.42              24.09   \n",
       "5914  XS2284324667  2021-05-10              26.87              26.63   \n",
       "5915  XS2284324667  2021-05-11              26.58              26.80   \n",
       "\n",
       "      minimum_price_eur  maximum_price_eur  daily_traded_volume  \\\n",
       "0                  8.94               9.10                  145   \n",
       "1                  8.82               8.85                  304   \n",
       "2                 18.68              19.30                 3077   \n",
       "3                 19.01              19.16                 3447   \n",
       "4                 16.48              17.46                  331   \n",
       "...                 ...                ...                  ...   \n",
       "5911              10.16              10.30                    0   \n",
       "5912              24.23              24.59                  300   \n",
       "5913              24.07              24.49                  600   \n",
       "5914              26.57              26.90                 8302   \n",
       "5915              26.47              26.80                 2633   \n",
       "\n",
       "      change_prev_closing_%  \n",
       "0                       NaN  \n",
       "1                     -2.22  \n",
       "2                       NaN  \n",
       "3                     -0.78  \n",
       "4                       NaN  \n",
       "...                     ...  \n",
       "5911                  -2.73  \n",
       "5912                    NaN  \n",
       "5913                  -2.03  \n",
       "5914                    NaN  \n",
       "5915                   0.65  \n",
       "\n",
       "[5916 rows x 8 columns]"
      ]
     },
     "execution_count": 68,
     "metadata": {},
     "output_type": "execute_result"
    }
   ],
   "source": [
    "df_report"
   ]
  },
  {
   "cell_type": "code",
   "execution_count": null,
   "id": "dcd75702",
   "metadata": {},
   "outputs": [],
   "source": []
  },
  {
   "cell_type": "code",
   "execution_count": null,
   "id": "fbec7d38",
   "metadata": {},
   "outputs": [],
   "source": []
  },
  {
   "cell_type": "code",
   "execution_count": null,
   "id": "fa3d3982",
   "metadata": {},
   "outputs": [],
   "source": []
  },
  {
   "cell_type": "code",
   "execution_count": null,
   "id": "f084741e",
   "metadata": {},
   "outputs": [],
   "source": []
  },
  {
   "cell_type": "code",
   "execution_count": null,
   "id": "a0dfca40",
   "metadata": {},
   "outputs": [],
   "source": []
  },
  {
   "cell_type": "code",
   "execution_count": null,
   "id": "401fe0f3",
   "metadata": {},
   "outputs": [],
   "source": []
  },
  {
   "cell_type": "code",
   "execution_count": null,
   "id": "e813d440",
   "metadata": {},
   "outputs": [],
   "source": []
  },
  {
   "cell_type": "code",
   "execution_count": null,
   "id": "efaac869",
   "metadata": {},
   "outputs": [],
   "source": []
  },
  {
   "cell_type": "code",
   "execution_count": null,
   "id": "1470c223",
   "metadata": {},
   "outputs": [],
   "source": []
  },
  {
   "cell_type": "code",
   "execution_count": null,
   "id": "df62f0c9",
   "metadata": {},
   "outputs": [],
   "source": []
  },
  {
   "cell_type": "code",
   "execution_count": null,
   "id": "cf4fc73f",
   "metadata": {},
   "outputs": [],
   "source": []
  },
  {
   "cell_type": "code",
   "execution_count": null,
   "id": "b0ccd8f8",
   "metadata": {},
   "outputs": [],
   "source": []
  }
 ],
 "metadata": {
  "kernelspec": {
   "display_name": "Python 3 (ipykernel)",
   "language": "python",
   "name": "python3"
  },
  "language_info": {
   "codemirror_mode": {
    "name": "ipython",
    "version": 3
   },
   "file_extension": ".py",
   "mimetype": "text/x-python",
   "name": "python",
   "nbconvert_exporter": "python",
   "pygments_lexer": "ipython3",
   "version": "3.9.7"
  }
 },
 "nbformat": 4,
 "nbformat_minor": 5
}
